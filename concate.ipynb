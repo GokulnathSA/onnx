{
 "cells": [
  {
   "cell_type": "code",
   "execution_count": 2,
   "metadata": {},
   "outputs": [],
   "source": [
    "import io\n",
    "import numpy as np\n",
    "from torch import nn\n",
    "import torch.onnx\n",
    "import torch.nn as nn\n",
    "import onnx\n",
    "import torchinfo\n",
    "from torchinfo import summary"
   ]
  },
  {
   "cell_type": "code",
   "execution_count": 12,
   "metadata": {},
   "outputs": [
    {
     "data": {
      "text/plain": [
       "Concate(\n",
       "  (softmax): Softmax(dim=-1)\n",
       "  (conv_1): Conv2d(3, 64, kernel_size=(3, 3), stride=(1, 1), padding=(1, 1))\n",
       "  (max_pool): MaxPool2d(kernel_size=2, stride=2, padding=0, dilation=1, ceil_mode=False)\n",
       "  (classifier): Sequential(\n",
       "    (0): Flatten(start_dim=1, end_dim=-1)\n",
       "    (1): Linear(in_features=65536, out_features=5, bias=True)\n",
       "  )\n",
       ")"
      ]
     },
     "execution_count": 12,
     "metadata": {},
     "output_type": "execute_result"
    }
   ],
   "source": [
    "class Concate(nn.Module):\n",
    "    def __init__(self, input_shape, output_shape):\n",
    "        super(Concate, self).__init__()\n",
    "        self.softmax = nn.Softmax(-1)\n",
    "        self.conv_1 = nn.Conv2d(input_shape, 64, kernel_size=3, padding=1,stride=1)\n",
    "        self.max_pool = nn.MaxPool2d(kernel_size=2,stride=2)\n",
    "        self.classifier = nn.Sequential(\n",
    "            nn.Flatten(),\n",
    "            nn.Linear(in_features=64*32*32,\n",
    "                      out_features=output_shape)\n",
    "        )\n",
    "    \n",
    "    def forward(self, x):\n",
    "        x = self.conv_1(x)\n",
    "        x = self.softmax(x)\n",
    "        x = self.max_pool(x)\n",
    "        x = self.classifier(x)\n",
    "        return x\n",
    "    \n",
    "model_0 = Concate(3,5)\n",
    "model_0\n"
   ]
  },
  {
   "cell_type": "code",
   "execution_count": 13,
   "metadata": {},
   "outputs": [
    {
     "data": {
      "text/plain": [
       "==========================================================================================\n",
       "Layer (type:depth-idx)                   Output Shape              Param #\n",
       "==========================================================================================\n",
       "Concate                                  [1, 5]                    --\n",
       "├─Conv2d: 1-1                            [1, 64, 64, 64]           1,792\n",
       "├─Softmax: 1-2                           [1, 64, 64, 64]           --\n",
       "├─MaxPool2d: 1-3                         [1, 64, 32, 32]           --\n",
       "├─Sequential: 1-4                        [1, 5]                    --\n",
       "│    └─Flatten: 2-1                      [1, 65536]                --\n",
       "│    └─Linear: 2-2                       [1, 5]                    327,685\n",
       "==========================================================================================\n",
       "Total params: 329,477\n",
       "Trainable params: 329,477\n",
       "Non-trainable params: 0\n",
       "Total mult-adds (Units.MEGABYTES): 7.67\n",
       "==========================================================================================\n",
       "Input size (MB): 0.05\n",
       "Forward/backward pass size (MB): 2.10\n",
       "Params size (MB): 1.32\n",
       "Estimated Total Size (MB): 3.46\n",
       "=========================================================================================="
      ]
     },
     "execution_count": 13,
     "metadata": {},
     "output_type": "execute_result"
    }
   ],
   "source": [
    "summary(model_0, input_size=[1,3,64,64])"
   ]
  },
  {
   "cell_type": "code",
   "execution_count": 14,
   "metadata": {},
   "outputs": [
    {
     "name": "stdout",
     "output_type": "stream",
     "text": [
      "============== Diagnostic Run torch.onnx.export version 2.0.1+cpu ==============\n",
      "verbose: False, log level: Level.ERROR\n",
      "======================= 0 NONE 0 NOTE 0 WARNING 0 ERROR ========================\n",
      "\n"
     ]
    }
   ],
   "source": [
    "x = torch.randn(1,3,64,64, requires_grad=True)\n",
    "batch_size = 1\n",
    "torch_out = model_0(x)\n",
    "torch.onnx.export(model_0,\n",
    "                  x,\n",
    "                  \"concate.onnx\",\n",
    "                  export_params=True,\n",
    "                  opset_version=10,\n",
    "                  do_constant_folding=True,\n",
    "                  input_names = ['input'],\n",
    "                  output_names = ['output'],\n",
    "                  dynamic_axes={'input' : {0 : 'batch_size'},    # variable length axes\n",
    "                                'output' : {0 : 'batch_size'}})"
   ]
  },
  {
   "cell_type": "code",
   "execution_count": null,
   "metadata": {},
   "outputs": [],
   "source": []
  }
 ],
 "metadata": {
  "kernelspec": {
   "display_name": "Python 3",
   "language": "python",
   "name": "python3"
  },
  "language_info": {
   "codemirror_mode": {
    "name": "ipython",
    "version": 3
   },
   "file_extension": ".py",
   "mimetype": "text/x-python",
   "name": "python",
   "nbconvert_exporter": "python",
   "pygments_lexer": "ipython3",
   "version": "3.11.4"
  },
  "orig_nbformat": 4
 },
 "nbformat": 4,
 "nbformat_minor": 2
}
