{
 "cells": [
  {
   "cell_type": "code",
   "execution_count": 1,
   "metadata": {},
   "outputs": [],
   "source": [
    "import io\n",
    "import numpy as np\n",
    "import torch.onnx\n",
    "import torch.nn as nn\n",
    "from torchinfo import summary\n",
    "import onnx\n"
   ]
  },
  {
   "cell_type": "code",
   "execution_count": 2,
   "metadata": {},
   "outputs": [
    {
     "data": {
      "text/plain": [
       "Matmul(\n",
       "  (conv_1): Conv2d(3, 64, kernel_size=(3, 3), stride=(2, 2))\n",
       "  (relu): ReLU()\n",
       "  (maxpool): MaxPool2d(kernel_size=2, stride=2, padding=0, dilation=1, ceil_mode=False)\n",
       ")"
      ]
     },
     "execution_count": 2,
     "metadata": {},
     "output_type": "execute_result"
    }
   ],
   "source": [
    "class Matmul(nn.Module):\n",
    "    def __init__(self,input_shape, output_shape):\n",
    "        super(Matmul,self).__init__()\n",
    "        self.conv_1 = nn.Conv2d(input_shape, 64, kernel_size=3,stride=2)\n",
    "        self.relu = nn.ReLU()\n",
    "        self.maxpool = nn.MaxPool2d(kernel_size=2, stride=2)\n",
    "\n",
    "        self.conv_2 = nn.Conv2d()\n",
    "\n",
    "    def forward(self, x):\n",
    "        x = self.conv_1(x)\n",
    "        x = self.relu(x)\n",
    "        x = self.maxpool(x)\n",
    "        return x\n",
    "    \n",
    "model_0 = Matmul(3,5)\n",
    "model_0"
   ]
  },
  {
   "cell_type": "code",
   "execution_count": 3,
   "metadata": {},
   "outputs": [
    {
     "data": {
      "text/plain": [
       "==========================================================================================\n",
       "Layer (type:depth-idx)                   Output Shape              Param #\n",
       "==========================================================================================\n",
       "Matmul                                   [1, 64, 15, 15]           --\n",
       "├─Conv2d: 1-1                            [1, 64, 31, 31]           1,792\n",
       "├─ReLU: 1-2                              [1, 64, 31, 31]           --\n",
       "├─MaxPool2d: 1-3                         [1, 64, 15, 15]           --\n",
       "==========================================================================================\n",
       "Total params: 1,792\n",
       "Trainable params: 1,792\n",
       "Non-trainable params: 0\n",
       "Total mult-adds (Units.MEGABYTES): 1.72\n",
       "==========================================================================================\n",
       "Input size (MB): 0.05\n",
       "Forward/backward pass size (MB): 0.49\n",
       "Params size (MB): 0.01\n",
       "Estimated Total Size (MB): 0.55\n",
       "=========================================================================================="
      ]
     },
     "execution_count": 3,
     "metadata": {},
     "output_type": "execute_result"
    }
   ],
   "source": [
    "summary(model_0, input_size=[1,3,64,64])"
   ]
  }
 ],
 "metadata": {
  "kernelspec": {
   "display_name": "Python 3",
   "language": "python",
   "name": "python3"
  },
  "language_info": {
   "codemirror_mode": {
    "name": "ipython",
    "version": 3
   },
   "file_extension": ".py",
   "mimetype": "text/x-python",
   "name": "python",
   "nbconvert_exporter": "python",
   "pygments_lexer": "ipython3",
   "version": "3.11.4"
  },
  "orig_nbformat": 4
 },
 "nbformat": 4,
 "nbformat_minor": 2
}
